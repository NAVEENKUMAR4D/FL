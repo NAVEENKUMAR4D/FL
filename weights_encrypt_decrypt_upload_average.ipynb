{
 "cells": [
  {
   "cell_type": "code",
   "execution_count": 9,
   "id": "9cf4c964",
   "metadata": {},
   "outputs": [],
   "source": [
    "from cryptography.fernet import Fernet\n",
    "import os\n",
    "import h5py\n",
    "import numpy as np"
   ]
  },
  {
   "cell_type": "code",
   "execution_count": 10,
   "id": "8e164e17",
   "metadata": {},
   "outputs": [],
   "source": [
    "def generate_key():\n",
    "    return Fernet.generate_key()\n",
    "\n",
    "def save_key(key, filename):\n",
    "    with open(filename, 'wb') as f:\n",
    "        f.write(key)\n",
    "\n",
    "def load_key(filename):\n",
    "    with open(filename, 'rb') as f:\n",
    "        return f.read()\n",
    "\n",
    "def encrypt_weights(input_file, output_file, key):\n",
    "    with open(input_file, 'rb') as f:\n",
    "        data = f.read()\n",
    "    cipher = Fernet(key)\n",
    "    encrypted_data = cipher.encrypt(data)\n",
    "    with open(output_file, 'wb') as f:\n",
    "        f.write(encrypted_data)\n",
    "\n",
    "def decrypt_weights(input_file, output_file, key):\n",
    "    with open(input_file, 'rb') as f:\n",
    "        data = f.read()\n",
    "    cipher = Fernet(key)\n",
    "    decrypted_data = cipher.decrypt(data)\n",
    "    with open(output_file, 'wb') as f:\n",
    "        f.write(decrypted_data)"
   ]
  },
  {
   "cell_type": "code",
   "execution_count": 187,
   "id": "18cd3e68",
   "metadata": {},
   "outputs": [],
   "source": [
    "# Example usage:\n",
    "# Generate a key\n",
    "key = generate_key()\n",
    "\n",
    "# Encrypt weights\n",
    "input_weights_file = 'Model_Bi.h5'\n",
    "encrypted_weights_file = 'encrypted_weights_Bi.bin'"
   ]
  },
  {
   "cell_type": "code",
   "execution_count": 188,
   "id": "f49f5978",
   "metadata": {},
   "outputs": [],
   "source": [
    "save_key(key,\"key.key\")"
   ]
  },
  {
   "cell_type": "code",
   "execution_count": 189,
   "id": "f181debb",
   "metadata": {},
   "outputs": [],
   "source": [
    "key = load_key('key.key')"
   ]
  },
  {
   "cell_type": "code",
   "execution_count": 190,
   "id": "ad12fd31",
   "metadata": {},
   "outputs": [],
   "source": [
    "encrypt_weights(input_weights_file, encrypted_weights_file, key)"
   ]
  },
  {
   "cell_type": "code",
   "execution_count": 191,
   "id": "da673f0c",
   "metadata": {},
   "outputs": [],
   "source": [
    "# Decrypt weights\n",
    "decrypted_weights_file = 'decrypted_weights.h5'\n",
    "decrypt_weights(encrypted_weights_file, decrypted_weights_file, key)"
   ]
  },
  {
   "cell_type": "code",
   "execution_count": null,
   "id": "02333f21",
   "metadata": {},
   "outputs": [],
   "source": []
  },
  {
   "cell_type": "code",
   "execution_count": 11,
   "id": "01495dfd",
   "metadata": {},
   "outputs": [],
   "source": [
    "from keras.models import load_model\n",
    "from keras.models import Model\n",
    "from keras.layers import Input"
   ]
  },
  {
   "cell_type": "code",
   "execution_count": 12,
   "id": "ddf09da7",
   "metadata": {},
   "outputs": [],
   "source": [
    "model1 = load_model('model1.keras')\n",
    "model2 = load_model('model2.keras')\n",
    "model3 = load_model('model3.keras')\n",
    "new_model = load_model('model1.keras')\n",
    "\n",
    "models = [model1,model2,model3]\n",
    "models_list = [\"model1.keras\",\"model2.keras\",\"model3.keras\"]"
   ]
  },
  {
   "cell_type": "code",
   "execution_count": 13,
   "id": "ea10ee16",
   "metadata": {},
   "outputs": [],
   "source": [
    "weights = [model.get_weights() for model in models]"
   ]
  },
  {
   "cell_type": "code",
   "execution_count": 15,
   "id": "58b2e851",
   "metadata": {},
   "outputs": [],
   "source": [
    "import tensorflow as tf"
   ]
  },
  {
   "cell_type": "code",
   "execution_count": 16,
   "id": "39bb99f9",
   "metadata": {},
   "outputs": [],
   "source": [
    "# Compute the average weights for each layer\n",
    "avg_weights = [\n",
    "        tf.reduce_mean(layer_weight_tensors, axis=0)\n",
    "        for layer_weight_tensors in zip(*weights)\n",
    "    ]\n",
    "\n",
    "new_model.set_weights(avg_weights)"
   ]
  },
  {
   "cell_type": "code",
   "execution_count": 17,
   "id": "3772447b",
   "metadata": {},
   "outputs": [],
   "source": [
    "new_model.save('aggregated_model.keras')  # Save the entire model to a HDF5 file"
   ]
  },
  {
   "cell_type": "code",
   "execution_count": 182,
   "id": "4b7203b9",
   "metadata": {},
   "outputs": [
    {
     "data": {
      "text/html": [
       "<pre style=\"white-space:pre;overflow-x:auto;line-height:normal;font-family:Menlo,'DejaVu Sans Mono',consolas,'Courier New',monospace\"><span style=\"font-weight: bold\">Model: \"model\"</span>\n",
       "</pre>\n"
      ],
      "text/plain": [
       "\u001b[1mModel: \"model\"\u001b[0m\n"
      ]
     },
     "metadata": {},
     "output_type": "display_data"
    },
    {
     "data": {
      "text/html": [
       "<pre style=\"white-space:pre;overflow-x:auto;line-height:normal;font-family:Menlo,'DejaVu Sans Mono',consolas,'Courier New',monospace\">┏━━━━━━━━━━━━━━━━━━━━━━━━━━━━━━━━━━━━━━┳━━━━━━━━━━━━━━━━━━━━━━━━━━━━━┳━━━━━━━━━━━━━━━━━┓\n",
       "┃<span style=\"font-weight: bold\"> Layer (type)                         </span>┃<span style=\"font-weight: bold\"> Output Shape                </span>┃<span style=\"font-weight: bold\">         Param # </span>┃\n",
       "┡━━━━━━━━━━━━━━━━━━━━━━━━━━━━━━━━━━━━━━╇━━━━━━━━━━━━━━━━━━━━━━━━━━━━━╇━━━━━━━━━━━━━━━━━┩\n",
       "│ input_1 (<span style=\"color: #0087ff; text-decoration-color: #0087ff\">InputLayer</span>)                 │ (<span style=\"color: #00d7ff; text-decoration-color: #00d7ff\">None</span>, <span style=\"color: #00af00; text-decoration-color: #00af00\">5</span>)                   │               <span style=\"color: #00af00; text-decoration-color: #00af00\">0</span> │\n",
       "├──────────────────────────────────────┼─────────────────────────────┼─────────────────┤\n",
       "│ dense (<span style=\"color: #0087ff; text-decoration-color: #0087ff\">Dense</span>)                        │ (<span style=\"color: #00d7ff; text-decoration-color: #00d7ff\">None</span>, <span style=\"color: #00af00; text-decoration-color: #00af00\">8</span>)                   │              <span style=\"color: #00af00; text-decoration-color: #00af00\">48</span> │\n",
       "├──────────────────────────────────────┼─────────────────────────────┼─────────────────┤\n",
       "│ dense_1 (<span style=\"color: #0087ff; text-decoration-color: #0087ff\">Dense</span>)                      │ (<span style=\"color: #00d7ff; text-decoration-color: #00d7ff\">None</span>, <span style=\"color: #00af00; text-decoration-color: #00af00\">8</span>)                   │              <span style=\"color: #00af00; text-decoration-color: #00af00\">72</span> │\n",
       "├──────────────────────────────────────┼─────────────────────────────┼─────────────────┤\n",
       "│ dense_2 (<span style=\"color: #0087ff; text-decoration-color: #0087ff\">Dense</span>)                      │ (<span style=\"color: #00d7ff; text-decoration-color: #00d7ff\">None</span>, <span style=\"color: #00af00; text-decoration-color: #00af00\">8</span>)                   │              <span style=\"color: #00af00; text-decoration-color: #00af00\">72</span> │\n",
       "├──────────────────────────────────────┼─────────────────────────────┼─────────────────┤\n",
       "│ dense_3 (<span style=\"color: #0087ff; text-decoration-color: #0087ff\">Dense</span>)                      │ (<span style=\"color: #00d7ff; text-decoration-color: #00d7ff\">None</span>, <span style=\"color: #00af00; text-decoration-color: #00af00\">1</span>)                   │               <span style=\"color: #00af00; text-decoration-color: #00af00\">9</span> │\n",
       "└──────────────────────────────────────┴─────────────────────────────┴─────────────────┘\n",
       "</pre>\n"
      ],
      "text/plain": [
       "┏━━━━━━━━━━━━━━━━━━━━━━━━━━━━━━━━━━━━━━┳━━━━━━━━━━━━━━━━━━━━━━━━━━━━━┳━━━━━━━━━━━━━━━━━┓\n",
       "┃\u001b[1m \u001b[0m\u001b[1mLayer (type)                        \u001b[0m\u001b[1m \u001b[0m┃\u001b[1m \u001b[0m\u001b[1mOutput Shape               \u001b[0m\u001b[1m \u001b[0m┃\u001b[1m \u001b[0m\u001b[1m        Param #\u001b[0m\u001b[1m \u001b[0m┃\n",
       "┡━━━━━━━━━━━━━━━━━━━━━━━━━━━━━━━━━━━━━━╇━━━━━━━━━━━━━━━━━━━━━━━━━━━━━╇━━━━━━━━━━━━━━━━━┩\n",
       "│ input_1 (\u001b[38;5;33mInputLayer\u001b[0m)                 │ (\u001b[38;5;45mNone\u001b[0m, \u001b[38;5;34m5\u001b[0m)                   │               \u001b[38;5;34m0\u001b[0m │\n",
       "├──────────────────────────────────────┼─────────────────────────────┼─────────────────┤\n",
       "│ dense (\u001b[38;5;33mDense\u001b[0m)                        │ (\u001b[38;5;45mNone\u001b[0m, \u001b[38;5;34m8\u001b[0m)                   │              \u001b[38;5;34m48\u001b[0m │\n",
       "├──────────────────────────────────────┼─────────────────────────────┼─────────────────┤\n",
       "│ dense_1 (\u001b[38;5;33mDense\u001b[0m)                      │ (\u001b[38;5;45mNone\u001b[0m, \u001b[38;5;34m8\u001b[0m)                   │              \u001b[38;5;34m72\u001b[0m │\n",
       "├──────────────────────────────────────┼─────────────────────────────┼─────────────────┤\n",
       "│ dense_2 (\u001b[38;5;33mDense\u001b[0m)                      │ (\u001b[38;5;45mNone\u001b[0m, \u001b[38;5;34m8\u001b[0m)                   │              \u001b[38;5;34m72\u001b[0m │\n",
       "├──────────────────────────────────────┼─────────────────────────────┼─────────────────┤\n",
       "│ dense_3 (\u001b[38;5;33mDense\u001b[0m)                      │ (\u001b[38;5;45mNone\u001b[0m, \u001b[38;5;34m1\u001b[0m)                   │               \u001b[38;5;34m9\u001b[0m │\n",
       "└──────────────────────────────────────┴─────────────────────────────┴─────────────────┘\n"
      ]
     },
     "metadata": {},
     "output_type": "display_data"
    },
    {
     "data": {
      "text/html": [
       "<pre style=\"white-space:pre;overflow-x:auto;line-height:normal;font-family:Menlo,'DejaVu Sans Mono',consolas,'Courier New',monospace\"><span style=\"font-weight: bold\"> Total params: </span><span style=\"color: #00af00; text-decoration-color: #00af00\">203</span> (816.00 B)\n",
       "</pre>\n"
      ],
      "text/plain": [
       "\u001b[1m Total params: \u001b[0m\u001b[38;5;34m203\u001b[0m (816.00 B)\n"
      ]
     },
     "metadata": {},
     "output_type": "display_data"
    },
    {
     "data": {
      "text/html": [
       "<pre style=\"white-space:pre;overflow-x:auto;line-height:normal;font-family:Menlo,'DejaVu Sans Mono',consolas,'Courier New',monospace\"><span style=\"font-weight: bold\"> Trainable params: </span><span style=\"color: #00af00; text-decoration-color: #00af00\">201</span> (804.00 B)\n",
       "</pre>\n"
      ],
      "text/plain": [
       "\u001b[1m Trainable params: \u001b[0m\u001b[38;5;34m201\u001b[0m (804.00 B)\n"
      ]
     },
     "metadata": {},
     "output_type": "display_data"
    },
    {
     "data": {
      "text/html": [
       "<pre style=\"white-space:pre;overflow-x:auto;line-height:normal;font-family:Menlo,'DejaVu Sans Mono',consolas,'Courier New',monospace\"><span style=\"font-weight: bold\"> Non-trainable params: </span><span style=\"color: #00af00; text-decoration-color: #00af00\">0</span> (0.00 B)\n",
       "</pre>\n"
      ],
      "text/plain": [
       "\u001b[1m Non-trainable params: \u001b[0m\u001b[38;5;34m0\u001b[0m (0.00 B)\n"
      ]
     },
     "metadata": {},
     "output_type": "display_data"
    },
    {
     "data": {
      "text/html": [
       "<pre style=\"white-space:pre;overflow-x:auto;line-height:normal;font-family:Menlo,'DejaVu Sans Mono',consolas,'Courier New',monospace\"><span style=\"font-weight: bold\"> Optimizer params: </span><span style=\"color: #00af00; text-decoration-color: #00af00\">2</span> (12.00 B)\n",
       "</pre>\n"
      ],
      "text/plain": [
       "\u001b[1m Optimizer params: \u001b[0m\u001b[38;5;34m2\u001b[0m (12.00 B)\n"
      ]
     },
     "metadata": {},
     "output_type": "display_data"
    }
   ],
   "source": [
    "# Load in the previously trained model (if necessary)\n",
    "\n",
    "# from keras.models import load_model\n",
    "# modelll = load_model('/content/drive/MyDrive/Data_and_s\n",
    "# cripts/averaged_weights.h5')\n",
    "# model1.summary()"
   ]
  },
  {
   "cell_type": "code",
   "execution_count": null,
   "id": "b0ebb938",
   "metadata": {},
   "outputs": [],
   "source": []
  },
  {
   "cell_type": "code",
   "execution_count": 216,
   "id": "a42d84f7",
   "metadata": {},
   "outputs": [],
   "source": [
    "## Homomorphic encryption\n",
    "# !pip install lightphe\n",
    "# !pip install git+https://github.com/OpenMined/TenSEAL.git#egg=tenseal"
   ]
  },
  {
   "cell_type": "code",
   "execution_count": 215,
   "id": "6ee16ba2",
   "metadata": {},
   "outputs": [],
   "source": [
    "# ## Homomorphic encryption\n",
    "# from seal import *\n",
    "# import pickle\n",
    "\n",
    "# def generate_key():\n",
    "#     parms = EncryptionParameters()\n",
    "#     parms.set_poly_modulus(\"1x^2048 + 1\")\n",
    "#     parms.set_coeff_modulus(coeff_modulus_128(2048))\n",
    "#     parms.set_plain_modulus(PlainModulus(1 << 8))\n",
    "    \n",
    "#     return KeyGenerator(parms).public_key()\n",
    "\n",
    "# def save_key(key, filename):\n",
    "#     with open(filename, 'wb') as f:\n",
    "#         f.write(pickle.dumps(key))\n",
    "\n",
    "# def load_key(filename):\n",
    "#     with open(filename, 'rb') as f:\n",
    "#         return pickle.loads(f.read())\n",
    "\n",
    "# def encrypt_weights(input_file, output_file, key):\n",
    "#     with open(input_file, 'rb') as f:\n",
    "#         data = f.read()\n",
    "    \n",
    "#     encoder = CKKSEncoder(key.parms())\n",
    "#     encryptor = Encryptor(key, encoder)\n",
    "    \n",
    "#     # Encode the data\n",
    "#     encoded_data = DoubleVector()\n",
    "#     encoder.encode(data, key.parms().plain_modulus().value(), encoded_data)\n",
    "    \n",
    "#     # Encrypt the encoded data\n",
    "#     encrypted_data = Ciphertext()\n",
    "#     encryptor.encrypt(encoded_data, encrypted_data)\n",
    "    \n",
    "#     # Serialize and save the encrypted data\n",
    "#     with open(output_file, 'wb') as f:\n",
    "#         f.write(pickle.dumps(encrypted_data))\n",
    "\n",
    "# def decrypt_weights(input_file, output_file, key):\n",
    "#     with open(input_file, 'rb') as f:\n",
    "#         encrypted_data = pickle.loads(f.read())\n",
    "    \n",
    "#     encoder = CKKSEncoder(key.parms())\n",
    "#     decryptor = Decryptor(key, encoder)\n",
    "    \n",
    "#     # Decrypt the encrypted data\n",
    "#     decrypted_data = Plaintext()\n",
    "#     decryptor.decrypt(encrypted_data, decrypted_data)\n",
    "    \n",
    "#     # Decode the decrypted data\n",
    "#     decoded_data = DoubleVector()\n",
    "#     encoder.decode(decrypted_data, decoded_data)\n",
    "    \n",
    "#     # Serialize and save the decrypted data\n",
    "#     with open(output_file, 'wb') as f:\n",
    "#         f.write(bytes(decoded_data))\n"
   ]
  },
  {
   "cell_type": "code",
   "execution_count": null,
   "id": "102d0ab7",
   "metadata": {},
   "outputs": [],
   "source": []
  }
 ],
 "metadata": {
  "kernelspec": {
   "display_name": "Python 3 (ipykernel)",
   "language": "python",
   "name": "python3"
  },
  "language_info": {
   "codemirror_mode": {
    "name": "ipython",
    "version": 3
   },
   "file_extension": ".py",
   "mimetype": "text/x-python",
   "name": "python",
   "nbconvert_exporter": "python",
   "pygments_lexer": "ipython3",
   "version": "3.11.5"
  }
 },
 "nbformat": 4,
 "nbformat_minor": 5
}
